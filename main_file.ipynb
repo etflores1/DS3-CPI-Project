{
  "nbformat": 4,
  "nbformat_minor": 0,
  "metadata": {
    "colab": {
      "provenance": []
    },
    "kernelspec": {
      "name": "python3",
      "display_name": "Python 3"
    },
    "language_info": {
      "name": "python"
    }
  },
  "cells": [
    {
      "cell_type": "code",
      "execution_count": null,
      "metadata": {
        "colab": {
          "base_uri": "https://localhost:8080/",
          "height": 455
        },
        "id": "pdr0F4AzGZ_6",
        "outputId": "ac234236-d3e4-4325-88d3-ce13684cffd8"
      },
      "outputs": [
        {
          "output_type": "execute_result",
          "data": {
            "text/plain": [
              "0          all_items_value apparel_value energy_value food_value gas_value  \\\n",
              "variable                                                                     \n",
              "1957-01-01           27.67          44.3         21.3       28.4       NaN   \n",
              "1957-02-01            27.8          44.3         21.4       28.7       NaN   \n",
              "1957-03-01           27.86          44.5         21.5       28.6       NaN   \n",
              "1957-04-01           27.93          44.4         21.6       28.6       NaN   \n",
              "1957-05-01            28.0          44.5         21.6       28.7       NaN   \n",
              "...                    ...           ...          ...        ...       ...   \n",
              "2022-03-01         287.708       127.044      305.469    295.809   380.763   \n",
              "2022-04-01         288.663       126.087      297.233    298.379   357.377   \n",
              "2022-05-01         291.474       126.927      308.839    301.879   372.063   \n",
              "2022-06-01         295.328       127.929      332.087    304.867   413.606   \n",
              "2022-07-01         295.271       127.818      316.955     308.22    381.71   \n",
              "\n",
              "0          medical_value transportation_value  \n",
              "variable                                       \n",
              "1957-01-01          16.7                 23.5  \n",
              "1957-02-01          16.7                 23.7  \n",
              "1957-03-01          16.8                 23.7  \n",
              "1957-04-01          16.9                 23.8  \n",
              "1957-05-01          16.9                 23.9  \n",
              "...                  ...                  ...  \n",
              "2022-03-01       588.223              341.104  \n",
              "2022-04-01       591.331              351.573  \n",
              "2022-05-01       593.887              356.018  \n",
              "2022-06-01       598.227              363.425  \n",
              "2022-07-01       600.683              361.783  \n",
              "\n",
              "[787 rows x 7 columns]"
            ],
            "text/html": [
              "\n",
              "  <div id=\"df-a7b32fce-ddc2-4a53-9b6f-daa9cf482c5f\" class=\"colab-df-container\">\n",
              "    <div>\n",
              "<style scoped>\n",
              "    .dataframe tbody tr th:only-of-type {\n",
              "        vertical-align: middle;\n",
              "    }\n",
              "\n",
              "    .dataframe tbody tr th {\n",
              "        vertical-align: top;\n",
              "    }\n",
              "\n",
              "    .dataframe thead th {\n",
              "        text-align: right;\n",
              "    }\n",
              "</style>\n",
              "<table border=\"1\" class=\"dataframe\">\n",
              "  <thead>\n",
              "    <tr style=\"text-align: right;\">\n",
              "      <th></th>\n",
              "      <th>all_items_value</th>\n",
              "      <th>apparel_value</th>\n",
              "      <th>energy_value</th>\n",
              "      <th>food_value</th>\n",
              "      <th>gas_value</th>\n",
              "      <th>medical_value</th>\n",
              "      <th>transportation_value</th>\n",
              "    </tr>\n",
              "    <tr>\n",
              "      <th>variable</th>\n",
              "      <th></th>\n",
              "      <th></th>\n",
              "      <th></th>\n",
              "      <th></th>\n",
              "      <th></th>\n",
              "      <th></th>\n",
              "      <th></th>\n",
              "    </tr>\n",
              "  </thead>\n",
              "  <tbody>\n",
              "    <tr>\n",
              "      <th>1957-01-01</th>\n",
              "      <td>27.67</td>\n",
              "      <td>44.3</td>\n",
              "      <td>21.3</td>\n",
              "      <td>28.4</td>\n",
              "      <td>NaN</td>\n",
              "      <td>16.7</td>\n",
              "      <td>23.5</td>\n",
              "    </tr>\n",
              "    <tr>\n",
              "      <th>1957-02-01</th>\n",
              "      <td>27.8</td>\n",
              "      <td>44.3</td>\n",
              "      <td>21.4</td>\n",
              "      <td>28.7</td>\n",
              "      <td>NaN</td>\n",
              "      <td>16.7</td>\n",
              "      <td>23.7</td>\n",
              "    </tr>\n",
              "    <tr>\n",
              "      <th>1957-03-01</th>\n",
              "      <td>27.86</td>\n",
              "      <td>44.5</td>\n",
              "      <td>21.5</td>\n",
              "      <td>28.6</td>\n",
              "      <td>NaN</td>\n",
              "      <td>16.8</td>\n",
              "      <td>23.7</td>\n",
              "    </tr>\n",
              "    <tr>\n",
              "      <th>1957-04-01</th>\n",
              "      <td>27.93</td>\n",
              "      <td>44.4</td>\n",
              "      <td>21.6</td>\n",
              "      <td>28.6</td>\n",
              "      <td>NaN</td>\n",
              "      <td>16.9</td>\n",
              "      <td>23.8</td>\n",
              "    </tr>\n",
              "    <tr>\n",
              "      <th>1957-05-01</th>\n",
              "      <td>28.0</td>\n",
              "      <td>44.5</td>\n",
              "      <td>21.6</td>\n",
              "      <td>28.7</td>\n",
              "      <td>NaN</td>\n",
              "      <td>16.9</td>\n",
              "      <td>23.9</td>\n",
              "    </tr>\n",
              "    <tr>\n",
              "      <th>...</th>\n",
              "      <td>...</td>\n",
              "      <td>...</td>\n",
              "      <td>...</td>\n",
              "      <td>...</td>\n",
              "      <td>...</td>\n",
              "      <td>...</td>\n",
              "      <td>...</td>\n",
              "    </tr>\n",
              "    <tr>\n",
              "      <th>2022-03-01</th>\n",
              "      <td>287.708</td>\n",
              "      <td>127.044</td>\n",
              "      <td>305.469</td>\n",
              "      <td>295.809</td>\n",
              "      <td>380.763</td>\n",
              "      <td>588.223</td>\n",
              "      <td>341.104</td>\n",
              "    </tr>\n",
              "    <tr>\n",
              "      <th>2022-04-01</th>\n",
              "      <td>288.663</td>\n",
              "      <td>126.087</td>\n",
              "      <td>297.233</td>\n",
              "      <td>298.379</td>\n",
              "      <td>357.377</td>\n",
              "      <td>591.331</td>\n",
              "      <td>351.573</td>\n",
              "    </tr>\n",
              "    <tr>\n",
              "      <th>2022-05-01</th>\n",
              "      <td>291.474</td>\n",
              "      <td>126.927</td>\n",
              "      <td>308.839</td>\n",
              "      <td>301.879</td>\n",
              "      <td>372.063</td>\n",
              "      <td>593.887</td>\n",
              "      <td>356.018</td>\n",
              "    </tr>\n",
              "    <tr>\n",
              "      <th>2022-06-01</th>\n",
              "      <td>295.328</td>\n",
              "      <td>127.929</td>\n",
              "      <td>332.087</td>\n",
              "      <td>304.867</td>\n",
              "      <td>413.606</td>\n",
              "      <td>598.227</td>\n",
              "      <td>363.425</td>\n",
              "    </tr>\n",
              "    <tr>\n",
              "      <th>2022-07-01</th>\n",
              "      <td>295.271</td>\n",
              "      <td>127.818</td>\n",
              "      <td>316.955</td>\n",
              "      <td>308.22</td>\n",
              "      <td>381.71</td>\n",
              "      <td>600.683</td>\n",
              "      <td>361.783</td>\n",
              "    </tr>\n",
              "  </tbody>\n",
              "</table>\n",
              "<p>787 rows × 7 columns</p>\n",
              "</div>\n",
              "    <div class=\"colab-df-buttons\">\n",
              "\n",
              "  <div class=\"colab-df-container\">\n",
              "    <button class=\"colab-df-convert\" onclick=\"convertToInteractive('df-a7b32fce-ddc2-4a53-9b6f-daa9cf482c5f')\"\n",
              "            title=\"Convert this dataframe to an interactive table.\"\n",
              "            style=\"display:none;\">\n",
              "\n",
              "  <svg xmlns=\"http://www.w3.org/2000/svg\" height=\"24px\" viewBox=\"0 -960 960 960\">\n",
              "    <path d=\"M120-120v-720h720v720H120Zm60-500h600v-160H180v160Zm220 220h160v-160H400v160Zm0 220h160v-160H400v160ZM180-400h160v-160H180v160Zm440 0h160v-160H620v160ZM180-180h160v-160H180v160Zm440 0h160v-160H620v160Z\"/>\n",
              "  </svg>\n",
              "    </button>\n",
              "\n",
              "  <style>\n",
              "    .colab-df-container {\n",
              "      display:flex;\n",
              "      gap: 12px;\n",
              "    }\n",
              "\n",
              "    .colab-df-convert {\n",
              "      background-color: #E8F0FE;\n",
              "      border: none;\n",
              "      border-radius: 50%;\n",
              "      cursor: pointer;\n",
              "      display: none;\n",
              "      fill: #1967D2;\n",
              "      height: 32px;\n",
              "      padding: 0 0 0 0;\n",
              "      width: 32px;\n",
              "    }\n",
              "\n",
              "    .colab-df-convert:hover {\n",
              "      background-color: #E2EBFA;\n",
              "      box-shadow: 0px 1px 2px rgba(60, 64, 67, 0.3), 0px 1px 3px 1px rgba(60, 64, 67, 0.15);\n",
              "      fill: #174EA6;\n",
              "    }\n",
              "\n",
              "    .colab-df-buttons div {\n",
              "      margin-bottom: 4px;\n",
              "    }\n",
              "\n",
              "    [theme=dark] .colab-df-convert {\n",
              "      background-color: #3B4455;\n",
              "      fill: #D2E3FC;\n",
              "    }\n",
              "\n",
              "    [theme=dark] .colab-df-convert:hover {\n",
              "      background-color: #434B5C;\n",
              "      box-shadow: 0px 1px 3px 1px rgba(0, 0, 0, 0.15);\n",
              "      filter: drop-shadow(0px 1px 2px rgba(0, 0, 0, 0.3));\n",
              "      fill: #FFFFFF;\n",
              "    }\n",
              "  </style>\n",
              "\n",
              "    <script>\n",
              "      const buttonEl =\n",
              "        document.querySelector('#df-a7b32fce-ddc2-4a53-9b6f-daa9cf482c5f button.colab-df-convert');\n",
              "      buttonEl.style.display =\n",
              "        google.colab.kernel.accessAllowed ? 'block' : 'none';\n",
              "\n",
              "      async function convertToInteractive(key) {\n",
              "        const element = document.querySelector('#df-a7b32fce-ddc2-4a53-9b6f-daa9cf482c5f');\n",
              "        const dataTable =\n",
              "          await google.colab.kernel.invokeFunction('convertToInteractive',\n",
              "                                                    [key], {});\n",
              "        if (!dataTable) return;\n",
              "\n",
              "        const docLinkHtml = 'Like what you see? Visit the ' +\n",
              "          '<a target=\"_blank\" href=https://colab.research.google.com/notebooks/data_table.ipynb>data table notebook</a>'\n",
              "          + ' to learn more about interactive tables.';\n",
              "        element.innerHTML = '';\n",
              "        dataTable['output_type'] = 'display_data';\n",
              "        await google.colab.output.renderOutput(dataTable, element);\n",
              "        const docLink = document.createElement('div');\n",
              "        docLink.innerHTML = docLinkHtml;\n",
              "        element.appendChild(docLink);\n",
              "      }\n",
              "    </script>\n",
              "  </div>\n",
              "\n",
              "\n",
              "<div id=\"df-a34ae58b-dad7-47e9-a07f-3cc3560ba029\">\n",
              "  <button class=\"colab-df-quickchart\" onclick=\"quickchart('df-a34ae58b-dad7-47e9-a07f-3cc3560ba029')\"\n",
              "            title=\"Suggest charts\"\n",
              "            style=\"display:none;\">\n",
              "\n",
              "<svg xmlns=\"http://www.w3.org/2000/svg\" height=\"24px\"viewBox=\"0 0 24 24\"\n",
              "     width=\"24px\">\n",
              "    <g>\n",
              "        <path d=\"M19 3H5c-1.1 0-2 .9-2 2v14c0 1.1.9 2 2 2h14c1.1 0 2-.9 2-2V5c0-1.1-.9-2-2-2zM9 17H7v-7h2v7zm4 0h-2V7h2v10zm4 0h-2v-4h2v4z\"/>\n",
              "    </g>\n",
              "</svg>\n",
              "  </button>\n",
              "\n",
              "<style>\n",
              "  .colab-df-quickchart {\n",
              "      --bg-color: #E8F0FE;\n",
              "      --fill-color: #1967D2;\n",
              "      --hover-bg-color: #E2EBFA;\n",
              "      --hover-fill-color: #174EA6;\n",
              "      --disabled-fill-color: #AAA;\n",
              "      --disabled-bg-color: #DDD;\n",
              "  }\n",
              "\n",
              "  [theme=dark] .colab-df-quickchart {\n",
              "      --bg-color: #3B4455;\n",
              "      --fill-color: #D2E3FC;\n",
              "      --hover-bg-color: #434B5C;\n",
              "      --hover-fill-color: #FFFFFF;\n",
              "      --disabled-bg-color: #3B4455;\n",
              "      --disabled-fill-color: #666;\n",
              "  }\n",
              "\n",
              "  .colab-df-quickchart {\n",
              "    background-color: var(--bg-color);\n",
              "    border: none;\n",
              "    border-radius: 50%;\n",
              "    cursor: pointer;\n",
              "    display: none;\n",
              "    fill: var(--fill-color);\n",
              "    height: 32px;\n",
              "    padding: 0;\n",
              "    width: 32px;\n",
              "  }\n",
              "\n",
              "  .colab-df-quickchart:hover {\n",
              "    background-color: var(--hover-bg-color);\n",
              "    box-shadow: 0 1px 2px rgba(60, 64, 67, 0.3), 0 1px 3px 1px rgba(60, 64, 67, 0.15);\n",
              "    fill: var(--button-hover-fill-color);\n",
              "  }\n",
              "\n",
              "  .colab-df-quickchart-complete:disabled,\n",
              "  .colab-df-quickchart-complete:disabled:hover {\n",
              "    background-color: var(--disabled-bg-color);\n",
              "    fill: var(--disabled-fill-color);\n",
              "    box-shadow: none;\n",
              "  }\n",
              "\n",
              "  .colab-df-spinner {\n",
              "    border: 2px solid var(--fill-color);\n",
              "    border-color: transparent;\n",
              "    border-bottom-color: var(--fill-color);\n",
              "    animation:\n",
              "      spin 1s steps(1) infinite;\n",
              "  }\n",
              "\n",
              "  @keyframes spin {\n",
              "    0% {\n",
              "      border-color: transparent;\n",
              "      border-bottom-color: var(--fill-color);\n",
              "      border-left-color: var(--fill-color);\n",
              "    }\n",
              "    20% {\n",
              "      border-color: transparent;\n",
              "      border-left-color: var(--fill-color);\n",
              "      border-top-color: var(--fill-color);\n",
              "    }\n",
              "    30% {\n",
              "      border-color: transparent;\n",
              "      border-left-color: var(--fill-color);\n",
              "      border-top-color: var(--fill-color);\n",
              "      border-right-color: var(--fill-color);\n",
              "    }\n",
              "    40% {\n",
              "      border-color: transparent;\n",
              "      border-right-color: var(--fill-color);\n",
              "      border-top-color: var(--fill-color);\n",
              "    }\n",
              "    60% {\n",
              "      border-color: transparent;\n",
              "      border-right-color: var(--fill-color);\n",
              "    }\n",
              "    80% {\n",
              "      border-color: transparent;\n",
              "      border-right-color: var(--fill-color);\n",
              "      border-bottom-color: var(--fill-color);\n",
              "    }\n",
              "    90% {\n",
              "      border-color: transparent;\n",
              "      border-bottom-color: var(--fill-color);\n",
              "    }\n",
              "  }\n",
              "</style>\n",
              "\n",
              "  <script>\n",
              "    async function quickchart(key) {\n",
              "      const quickchartButtonEl =\n",
              "        document.querySelector('#' + key + ' button');\n",
              "      quickchartButtonEl.disabled = true;  // To prevent multiple clicks.\n",
              "      quickchartButtonEl.classList.add('colab-df-spinner');\n",
              "      try {\n",
              "        const charts = await google.colab.kernel.invokeFunction(\n",
              "            'suggestCharts', [key], {});\n",
              "      } catch (error) {\n",
              "        console.error('Error during call to suggestCharts:', error);\n",
              "      }\n",
              "      quickchartButtonEl.classList.remove('colab-df-spinner');\n",
              "      quickchartButtonEl.classList.add('colab-df-quickchart-complete');\n",
              "    }\n",
              "    (() => {\n",
              "      let quickchartButtonEl =\n",
              "        document.querySelector('#df-a34ae58b-dad7-47e9-a07f-3cc3560ba029 button');\n",
              "      quickchartButtonEl.style.display =\n",
              "        google.colab.kernel.accessAllowed ? 'block' : 'none';\n",
              "    })();\n",
              "  </script>\n",
              "</div>\n",
              "    </div>\n",
              "  </div>\n"
            ],
            "application/vnd.google.colaboratory.intrinsic+json": {
              "type": "dataframe",
              "variable_name": "df",
              "summary": "{\n  \"name\": \"df\",\n  \"rows\": 787,\n  \"fields\": [\n    {\n      \"column\": \"all_items_value\",\n      \"properties\": {\n        \"dtype\": \"string\",\n        \"num_unique_values\": 732,\n        \"samples\": [\n          \"227.169\",\n          \"29.55\",\n          \"105.7\"\n        ],\n        \"semantic_type\": \"\",\n        \"description\": \"\"\n      }\n    },\n    {\n      \"column\": \"apparel_value\",\n      \"properties\": {\n        \"dtype\": \"string\",\n        \"num_unique_values\": 572,\n        \"samples\": [\n          \"125.508\",\n          \"54.9\",\n          \"71.2\"\n        ],\n        \"semantic_type\": \"\",\n        \"description\": \"\"\n      }\n    },\n    {\n      \"column\": \"energy_value\",\n      \"properties\": {\n        \"dtype\": \"string\",\n        \"num_unique_values\": 535,\n        \"samples\": [\n          \"59.5\",\n          \"86.7\",\n          \"98.4\"\n        ],\n        \"semantic_type\": \"\",\n        \"description\": \"\"\n      }\n    },\n    {\n      \"column\": \"food_value\",\n      \"properties\": {\n        \"dtype\": \"string\",\n        \"num_unique_values\": 640,\n        \"samples\": [\n          \"247.812\",\n          \"125.6\",\n          \"137.0\"\n        ],\n        \"semantic_type\": \"\",\n        \"description\": \"\"\n      }\n    },\n    {\n      \"column\": \"gas_value\",\n      \"properties\": {\n        \"dtype\": \"string\",\n        \"num_unique_values\": 510,\n        \"samples\": [\n          \"229.98\",\n          \"191.889\",\n          \"228.787\"\n        ],\n        \"semantic_type\": \"\",\n        \"description\": \"\"\n      }\n    },\n    {\n      \"column\": \"medical_value\",\n      \"properties\": {\n        \"dtype\": \"string\",\n        \"num_unique_values\": 737,\n        \"samples\": [\n          \"502.333\",\n          \"20.1\",\n          \"357.4\"\n        ],\n        \"semantic_type\": \"\",\n        \"description\": \"\"\n      }\n    },\n    {\n      \"column\": \"transportation_value\",\n      \"properties\": {\n        \"dtype\": \"string\",\n        \"num_unique_values\": 680,\n        \"samples\": [\n          \"326.042\",\n          \"300.422\",\n          \"31.3\"\n        ],\n        \"semantic_type\": \"\",\n        \"description\": \"\"\n      }\n    }\n  ]\n}"
            }
          },
          "metadata": {},
          "execution_count": 1
        }
      ],
      "source": [
        "import numpy as np\n",
        "import pandas as pd\n",
        "import matplotlib.pyplot as plt\n",
        "import seaborn as sns\n",
        "\n",
        "\n",
        "# read in data, fix formatting as the dataset needed to be transposed and columns renamed\n",
        "df = pd.read_csv('cpi_data.csv', header= None).transpose()\n",
        "df.columns = df.iloc[0]\n",
        "df = df[1:].set_index('variable')\n",
        "\n",
        "df"
      ]
    },
    {
      "cell_type": "markdown",
      "source": [
        "## **Exploratory Data Analysis**"
      ],
      "metadata": {
        "id": "kW3U0Sa5H8wU"
      }
    },
    {
      "cell_type": "code",
      "source": [
        "# what columns we are working with\n",
        "df.columns"
      ],
      "metadata": {
        "colab": {
          "base_uri": "https://localhost:8080/"
        },
        "id": "wF5Ngv4IHhvP",
        "outputId": "4cfece7a-2623-4125-c022-dca5a1c13190"
      },
      "execution_count": null,
      "outputs": [
        {
          "output_type": "execute_result",
          "data": {
            "text/plain": [
              "Index(['all_items_value', 'apparel_value', 'energy_value', 'food_value',\n",
              "       'gas_value', 'medical_value', 'transportation_value'],\n",
              "      dtype='object', name=0)"
            ]
          },
          "metadata": {},
          "execution_count": 134
        }
      ]
    },
    {
      "cell_type": "code",
      "source": [
        "# find number of null values per column\n",
        "df.isnull().sum()"
      ],
      "metadata": {
        "colab": {
          "base_uri": "https://localhost:8080/"
        },
        "id": "G-yoYGUOG2M7",
        "outputId": "f9471c05-65f0-48e0-994d-63672cee7e2f"
      },
      "execution_count": null,
      "outputs": [
        {
          "output_type": "execute_result",
          "data": {
            "text/plain": [
              "0\n",
              "all_items_value           0\n",
              "apparel_value             0\n",
              "energy_value              0\n",
              "food_value                0\n",
              "gas_value               120\n",
              "medical_value             0\n",
              "transportation_value      0\n",
              "dtype: int64"
            ]
          },
          "metadata": {},
          "execution_count": 135
        }
      ]
    },
    {
      "cell_type": "code",
      "source": [
        "# information about the data\n",
        "df.info()"
      ],
      "metadata": {
        "colab": {
          "base_uri": "https://localhost:8080/"
        },
        "id": "FfaZ0YrEIIjt",
        "outputId": "9f4f1811-473c-40ae-e617-562a3ce1506c"
      },
      "execution_count": null,
      "outputs": [
        {
          "output_type": "stream",
          "name": "stdout",
          "text": [
            "<class 'pandas.core.frame.DataFrame'>\n",
            "Index: 787 entries, 1957-01-01 to 2022-07-01\n",
            "Data columns (total 7 columns):\n",
            " #   Column                Non-Null Count  Dtype \n",
            "---  ------                --------------  ----- \n",
            " 0   all_items_value       787 non-null    object\n",
            " 1   apparel_value         787 non-null    object\n",
            " 2   energy_value          787 non-null    object\n",
            " 3   food_value            787 non-null    object\n",
            " 4   gas_value             667 non-null    object\n",
            " 5   medical_value         787 non-null    object\n",
            " 6   transportation_value  787 non-null    object\n",
            "dtypes: object(7)\n",
            "memory usage: 49.2+ KB\n"
          ]
        }
      ]
    },
    {
      "cell_type": "code",
      "source": [
        "# Shape of the dataset\n",
        "print('Number of rows:', df.shape[0])\n",
        "print('Number of columns:', df.shape[1])\n"
      ],
      "metadata": {
        "colab": {
          "base_uri": "https://localhost:8080/"
        },
        "id": "TJlnLP3eIJJJ",
        "outputId": "4eb97edd-dba9-4c58-e658-45f7cefab3e1"
      },
      "execution_count": null,
      "outputs": [
        {
          "output_type": "stream",
          "name": "stdout",
          "text": [
            "Number of rows: 787\n",
            "Number of columns: 7\n"
          ]
        }
      ]
    },
    {
      "cell_type": "code",
      "source": [
        "#  find dtypes of each column\n",
        "print(df.dtypes[:])\n",
        "\n",
        "# change dtype of each column into floats from objects\n",
        "df = df.astype('float64')\n",
        "print('New data types:', df.dtypes[:])"
      ],
      "metadata": {
        "colab": {
          "base_uri": "https://localhost:8080/"
        },
        "id": "uLlhNcTlMaFp",
        "outputId": "f6ef1352-5a08-4b52-f6ec-a7f5ff8595a1"
      },
      "execution_count": null,
      "outputs": [
        {
          "output_type": "stream",
          "name": "stdout",
          "text": [
            "0\n",
            "all_items_value         object\n",
            "apparel_value           object\n",
            "energy_value            object\n",
            "food_value              object\n",
            "gas_value               object\n",
            "medical_value           object\n",
            "transportation_value    object\n",
            "dtype: object\n",
            "New data types: 0\n",
            "all_items_value         float64\n",
            "apparel_value           float64\n",
            "energy_value            float64\n",
            "food_value              float64\n",
            "gas_value               float64\n",
            "medical_value           float64\n",
            "transportation_value    float64\n",
            "dtype: object\n"
          ]
        }
      ]
    },
    {
      "cell_type": "code",
      "source": [
        "correlation_matrix = df.corr(numeric_only=True)\n",
        "plt.figure(figsize=(9, 7))\n",
        "sns.heatmap(correlation_matrix, annot=True, cmap='coolwarm', fmt=\".2f\")\n",
        "plt.title('Correlation Matrix')\n",
        "plt.show()"
      ],
      "metadata": {
        "colab": {
          "base_uri": "https://localhost:8080/",
          "height": 772
        },
        "id": "Q9uztI3hMdfH",
        "outputId": "84c95ce7-4666-48e5-a901-f016e631be1d"
      },
      "execution_count": null,
      "outputs": [
        {
          "output_type": "display_data",
          "data": {
            "text/plain": [
              "<Figure size 900x700 with 2 Axes>"
            ],
            "image/png": "[encoded data removed]"
          },
          "metadata": {}
        }
      ]
    },
    {
      "cell_type": "markdown",
      "source": [
        "## **Feature Engineering and Data Cleaning**"
      ],
      "metadata": {
        "id": "GcJSOJ9fTgN3"
      }
    },
    {
      "cell_type": "markdown",
      "source": [
        "To do for next meeting:\n",
        "\n",
        "Add graphs in EDA section\n",
        "\n",
        "Handle null values:\n",
        "  - **fill in values with the mean**\n",
        "\n",
        "Transformation\n",
        "  - make data on the same scale\n",
        "\n",
        "Outliers/Anomalies\n",
        "\n",
        "\n",
        "\n"
      ],
      "metadata": {
        "id": "ZdHVwi9oThbK"
      }
    },
    {
      "cell_type": "code",
      "source": [],
      "metadata": {
        "id": "mxqaQ6FrWzpv"
      },
      "execution_count": null,
      "outputs": []
    }
  ]
}